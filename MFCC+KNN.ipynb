{
 "cells": [
  {
   "cell_type": "code",
   "execution_count": 1,
   "metadata": {},
   "outputs": [],
   "source": [
    "import os\n",
    "import librosa\n",
    "import _pickle as cPickle\n",
    "from scipy.io.wavfile import read\n",
    "from pathlib import Path\n",
    "import warnings\n",
    "import numpy as np\n",
    "from sklearn import preprocessing\n",
    "import python_speech_features as mfcc\n",
    "warnings.filterwarnings(\"ignore\")"
   ]
  },
  {
   "cell_type": "code",
   "execution_count": 2,
   "metadata": {},
   "outputs": [],
   "source": [
    "import numpy as np\n",
    "from sklearn import preprocessing\n",
    "import python_speech_features as mfcc\n",
    "#from speakerfeatures import extract_features\n",
    "\n",
    "def calculate_delta(array):\n",
    "    \"\"\"Calculate and returns the delta of given feature vector matrix\"\"\"\n",
    "\n",
    "    rows,cols = array.shape\n",
    "    deltas = np.zeros((rows,20))\n",
    "    N = 2\n",
    "    for i in range(rows):\n",
    "        index = []\n",
    "        j = 1\n",
    "        while j <= N:\n",
    "            if i-j < 0:\n",
    "                first = 0\n",
    "            else:\n",
    "                first = i-j\n",
    "            if i+j > rows -1:\n",
    "                second = rows -1\n",
    "            else:\n",
    "                second = i+j\n",
    "            index.append((second,first))\n",
    "            j+=1\n",
    "        deltas[i] = ( array[index[0][0]]-array[index[0][1]] + (2 * (array[index[1][0]]-array[index[1][1]])) ) / 10\n",
    "    return deltas\n",
    "\n",
    "def extract_features(audio,rate):\n",
    "    \"\"\"extract 20 dim mfcc features from an audio, performs CMS and combines \n",
    "    delta to make it 40 dim feature vector\"\"\"    \n",
    "    \n",
    "    mfcc_feat = mfcc.mfcc(audio,rate, 0.025, 0.01,20,appendEnergy = True)\n",
    "    \n",
    "    mfcc_feat = preprocessing.scale(mfcc_feat)\n",
    "    delta = calculate_delta(mfcc_feat)\n",
    "    combined = np.hstack((mfcc_feat,delta)) \n",
    "    return combined"
   ]
  },
  {
   "cell_type": "code",
   "execution_count": 3,
   "metadata": {},
   "outputs": [
    {
     "name": "stdout",
     "output_type": "stream",
     "text": [
      "(37474, 40)\n"
     ]
    }
   ],
   "source": [
    "#dest = \"..\\\\data\\\\mfcc1\"  \n",
    "\n",
    "train_file = \"..\\\\data\\\\f_list\\\\wav_list_train.txt\"    \n",
    "\n",
    "test_file = \"..\\\\data\\\\f_list\\\\wav_list_test.txt\"  \n",
    "\n",
    "\n",
    "file_paths = open(train_file,'r')\n",
    "\n",
    "# Extracting features for each speaker (5 files per speakers)\n",
    "def get_features(): \n",
    "    file_paths = open(train_file,'r')\n",
    "    features_normalize = []\n",
    "    total_feature = []\n",
    "    features = np.asarray(())\n",
    "    for path in file_paths:    \n",
    "        path = path.strip()\n",
    "        file_name=os.path.basename(path)\n",
    "#         split_filename=file_name.split('.')\n",
    "#         molecule_name=split_filename[0]\n",
    "#         print(path + ' before')\n",
    "        audio, sr1 = librosa.load(path, sr=44100)\n",
    "        data=librosa.resample(audio, sr1, 16000)\n",
    "#         picklefile =molecule_name+\".mfcc\"+\".txt\"\n",
    "#         folder=Path(path).parts\n",
    "#         b='AR'\n",
    "        # extract 40 dimensional MFCC & delta MFCC features\n",
    "        vector   = extract_features(data,16000)\n",
    "#         print(path + ' middle1')\n",
    "        if features.size == 0:\n",
    "            features = vector\n",
    "        #print(features)\n",
    "#         if folder[3]==b:\n",
    "#             full_path = os.path.join(dest+\"\\\\AR\",picklefile)\n",
    "#             print(path + ' after1')\n",
    "#             with open(full_path, 'w') as filehandle:\n",
    "#                 for listitem in features:\n",
    "#                     filehandle.write('%s\\n' % listitem)\n",
    "        \n",
    "        else:\n",
    "            features = np.vstack((features, vector))\n",
    "#         #print(features)\n",
    "#         if folder[3]==b:\n",
    "#             full_path = os.path.join(dest+\"\\\\AR\",picklefile)\n",
    "#             print(path + ' after1')\n",
    "#             with open(full_path, 'w') as filehandle:\n",
    "#                 for listitem in vector:\n",
    "#                     filehandle.write('%s\\n' % listitem)\n",
    "#         else:\n",
    "#             full_path1 = os.path.join(dest+\"\\\\EN\",picklefile)\n",
    "#             print(path + ' after2')\n",
    "#             with open(full_path1, 'w') as filehandle:\n",
    "#                 for listitem in vector:\n",
    "#                     filehandle.write('%s\\n' % listitem)   \n",
    "\n",
    "        total_feature.append(features)\n",
    "    return total_feature\n",
    "\n",
    "   \n",
    "extracted_features = get_features() \n",
    "final_features = np.vstack(extracted_features)\n",
    "print(final_features.shape)"
   ]
  },
  {
   "cell_type": "code",
   "execution_count": 4,
   "metadata": {},
   "outputs": [
    {
     "name": "stdout",
     "output_type": "stream",
     "text": [
      "['S001F' 'S001F' 'S001F' ... 'S023M' 'S023M' 'S023M']\n",
      "(37474,)\n"
     ]
    }
   ],
   "source": [
    "\n",
    "\n",
    "# Extracting features for each speaker (5 files per speakers)\n",
    "def get_label(): \n",
    "    file_paths = open(train_file,'r')\n",
    "    features_normalize = []\n",
    "    total_feature = []\n",
    "    labels = []\n",
    "    features = np.asarray(())\n",
    "    \n",
    "    for path in file_paths:    \n",
    "        path = path.strip()\n",
    "        file_name=os.path.basename(path)\n",
    "#         split_filename=file_name.split('.')\n",
    "#         molecule_name=split_filename[0]\n",
    "#         print(path + ' before')\n",
    "        audio, sr1 = librosa.load(path, sr=44100)\n",
    "        data=librosa.resample(audio, sr1, 16000)\n",
    "#         picklefile =molecule_name+\".mfcc\"+\".txt\"\n",
    "#         folder=Path(path).parts\n",
    "#         b='AR'\n",
    "        # extract 40 dimensional MFCC & delta MFCC features\n",
    "        vector   = extract_features(data,16000)\n",
    "#         print(path + ' middle1')\n",
    "        if features.size == 0:\n",
    "            features = vector\n",
    "        #print(features)\n",
    "#         if folder[3]==b:\n",
    "#             full_path = os.path.join(dest+\"\\\\AR\",picklefile)\n",
    "#             print(path + ' after1')\n",
    "#             with open(full_path, 'w') as filehandle:\n",
    "#                 for listitem in features:\n",
    "#                     filehandle.write('%s\\n' % listitem)\n",
    "        \n",
    "        else:\n",
    "            features = np.vstack((features, vector))\n",
    "#         #print(features)\n",
    "#         if folder[3]==b:\n",
    "#             full_path = os.path.join(dest+\"\\\\AR\",picklefile)\n",
    "#             print(path + ' after1')\n",
    "#             with open(full_path, 'w') as filehandle:\n",
    "#                 for listitem in vector:\n",
    "#                     filehandle.write('%s\\n' % listitem)\n",
    "#         else:\n",
    "#             full_path1 = os.path.join(dest+\"\\\\EN\",picklefile)\n",
    "#             print(path + ' after2')\n",
    "#             with open(full_path1, 'w') as filehandle:\n",
    "#                 for listitem in vector:\n",
    "#                     filehandle.write('%s\\n' % listitem)\n",
    "\n",
    "        file_name=os.path.basename(path)\n",
    "         # print(file_name)\n",
    "        split_filename=file_name.split('_')\n",
    "        #print (split_filename)\n",
    "        #split_filename1=file_name.split('_')[0]\n",
    "        #print(split_filename1)\n",
    "        molecule_name=split_filename[0]\n",
    "        #fin_name=molecule_name.split('S')[1]\n",
    "        #  print(fin_name)\n",
    "        #final_name=fin_name.split('F')[0]\n",
    "        #print(molecule_name)\n",
    "        for r in range(features.shape[0]):\n",
    "            #print(r)\n",
    "            #print(path.split('\\\\')[0].split('-')[1])\n",
    "            labels.append(molecule_name)\n",
    "       \n",
    "    return labels\n",
    "\n",
    "   \n",
    "label_value = get_label()\n",
    "final_label = np.array(label_value)\n",
    "print(final_label)\n",
    "print(final_label.shape)"
   ]
  },
  {
   "cell_type": "code",
   "execution_count": 6,
   "metadata": {},
   "outputs": [
    {
     "name": "stdout",
     "output_type": "stream",
     "text": [
      "Train set: (37474, 40) (37474,)\n"
     ]
    }
   ],
   "source": [
    "from sklearn.model_selection import train_test_split \n",
    "\n",
    "y = final_label   \n",
    "x = preprocessing.StandardScaler().fit(final_features).transform(final_features.astype(float)) \n",
    "\n",
    "# as said before,  we will use 20% of the dataset for validation\n",
    "validation_size = 0.20\n",
    "\n",
    "# split the data into traning and testing\n",
    "#X_train, X_test, y_train, y_test = train_test_split( x, y, test_size=validation_size, random_state=4)\n",
    "\n",
    "print ('Train set:', x.shape,  y.shape)\n",
    "#print ('Test set:', X_test.shape,  y_test.shape)"
   ]
  },
  {
   "cell_type": "code",
   "execution_count": 7,
   "metadata": {},
   "outputs": [
    {
     "name": "stdout",
     "output_type": "stream",
     "text": [
      "KNeighborsClassifier(algorithm='auto', leaf_size=30, metric='minkowski',\n",
      "                     metric_params=None, n_jobs=None, n_neighbors=9, p=2,\n",
      "                     weights='uniform')\n"
     ]
    }
   ],
   "source": [
    "#Tranining\n",
    "\n",
    "from sklearn.neighbors import KNeighborsClassifier\n",
    "\n",
    "k = 9 \n",
    "neigh = KNeighborsClassifier(n_neighbors = k).fit(x ,y)\n",
    "\n",
    "#The default metric is minkowski, and with p=2 is equivalent to the standard Euclidean metric.\n",
    "print(neigh) \n"
   ]
  },
  {
   "cell_type": "code",
   "execution_count": 8,
   "metadata": {},
   "outputs": [
    {
     "name": "stdout",
     "output_type": "stream",
     "text": [
      "['S001F' 'S001F' 'S001F' ... 'S023M' 'S023M' 'S023M']\n"
     ]
    }
   ],
   "source": [
    "#Testing and Predicting\n",
    "y_pred = neigh.predict(x)\n",
    "print(y)\n",
    "\n",
    "#y_pred = neigh.predict(X_test)\n",
    "#print(y_pred)"
   ]
  },
  {
   "cell_type": "code",
   "execution_count": null,
   "metadata": {},
   "outputs": [],
   "source": [
    "from sklearn import metrics\n",
    "\n",
    "print(\"Train set Accuracy: \", metrics.accuracy_score(y_train, neigh.predict(X_train)))\n",
    "#print(\"Test set Accuracy: \", metrics.accuracy_score(y_test, y_pred))"
   ]
  },
  {
   "cell_type": "code",
   "execution_count": null,
   "metadata": {},
   "outputs": [],
   "source": []
  }
 ],
 "metadata": {
  "kernelspec": {
   "display_name": "Python 3",
   "language": "python",
   "name": "python3"
  },
  "language_info": {
   "codemirror_mode": {
    "name": "ipython",
    "version": 3
   },
   "file_extension": ".py",
   "mimetype": "text/x-python",
   "name": "python",
   "nbconvert_exporter": "python",
   "pygments_lexer": "ipython3",
   "version": "3.7.1"
  }
 },
 "nbformat": 4,
 "nbformat_minor": 2
}
